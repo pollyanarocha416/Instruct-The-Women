{
 "cells": [
  {
   "cell_type": "code",
   "execution_count": 3,
   "metadata": {},
   "outputs": [
    {
     "name": "stdout",
     "output_type": "stream",
     "text": [
      "21\n",
      "128\n"
     ]
    }
   ],
   "source": [
    "\n",
    "import math\n",
    "\n",
    "def automated_readability_index(sentence):\n",
    "    palavras = len(sentence.split())\n",
    "    print(palavras)\n",
    "    sentence = sentence.replace(\" \", \"\")\n",
    "    \n",
    "    letras = len(sentence)\n",
    "    print(letras)\n",
    "    \n",
    "    calculo = 4.71 * float(letras) / float(palavras) + 0.5 * float(palavras) - 21.43\n",
    "    valor = math.ceil(calculo)\n",
    "    if valor >= 14:\n",
    "        return 14\n",
    "    else:\n",
    "        return valor\n",
    "\n",
    "\n",
    "resul = automated_readability_index(\n",
    "    \"The latter consisted simply of six hydrocoptic marzelvanes so fitted to the ambifacient lunar waneshaft that side fumbling was effectively prevented\")\n",
    "\n",
    "\n"
   ]
  }
 ],
 "metadata": {
  "kernelspec": {
   "display_name": "Python 3.10.0 64-bit",
   "language": "python",
   "name": "python3"
  },
  "language_info": {
   "codemirror_mode": {
    "name": "ipython",
    "version": 3
   },
   "file_extension": ".py",
   "mimetype": "text/x-python",
   "name": "python",
   "nbconvert_exporter": "python",
   "pygments_lexer": "ipython3",
   "version": "3.10.0"
  },
  "orig_nbformat": 4,
  "vscode": {
   "interpreter": {
    "hash": "3e680e901da43b1ff7896a65bb9fdc0d88fdcb475def19e54fa2d4ad7c5b5275"
   }
  }
 },
 "nbformat": 4,
 "nbformat_minor": 2
}
